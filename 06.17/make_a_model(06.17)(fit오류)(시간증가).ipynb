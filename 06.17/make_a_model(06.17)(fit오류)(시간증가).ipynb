{
 "cells": [
  {
   "cell_type": "code",
   "execution_count": 1,
   "metadata": {},
   "outputs": [],
   "source": [
    "import pandas as pd\n",
    "from sklearn.model_selection import train_test_split, GridSearchCV\n",
    "from sklearn.preprocessing import StandardScaler\n",
    "from sklearn.preprocessing import LabelEncoder\n",
    "import xgboost as xgb\n",
    "import matplotlib.pyplot as plt\n",
    "from sklearn.metrics import accuracy_score, mean_squared_error\n",
    "import numpy as np"
   ]
  },
  {
   "cell_type": "code",
   "execution_count": 2,
   "metadata": {},
   "outputs": [],
   "source": [
    "pd.set_option(\"display.max_columns\", None)    # 보여주는 열 값에 제한을 건다 -> 여기서는 None를 했기 때문에 제한이 없어진다"
   ]
  },
  {
   "cell_type": "code",
   "execution_count": 3,
   "metadata": {},
   "outputs": [
    {
     "name": "stdout",
     "output_type": "stream",
     "text": [
      "<class 'pandas.core.frame.DataFrame'>\n",
      "Index: 7194 entries, 0 to 7193\n",
      "Data columns (total 14 columns):\n",
      " #   Column             Non-Null Count  Dtype  \n",
      "---  ------             --------------  -----  \n",
      " 0   gameId             7194 non-null   object \n",
      " 1   headtoHeadWinrate  7194 non-null   float64\n",
      " 2   teamWinrateDiff    7194 non-null   float64\n",
      " 3   Blue_Top_kda       7194 non-null   float64\n",
      " 4   Blue_Jgl_kda       7194 non-null   float64\n",
      " 5   Blue_Mid_kda       7194 non-null   float64\n",
      " 6   Blue_Adc_kda       7194 non-null   float64\n",
      " 7   Blue_Spt_kda       7194 non-null   float64\n",
      " 8   Red_Top_kda        7194 non-null   float64\n",
      " 9   Red_Jgl_kda        7194 non-null   float64\n",
      " 10  Red_Mid_kda        7194 non-null   float64\n",
      " 11  Red_Adc_kda        7194 non-null   float64\n",
      " 12  Red_Spt_kda        7194 non-null   float64\n",
      " 13  winner             7194 non-null   object \n",
      "dtypes: float64(12), object(2)\n",
      "memory usage: 843.0+ KB\n"
     ]
    }
   ],
   "source": [
    "dataset = pd.read_excel(\"C:/Users/NT551/Desktop/06.17 깃/dataset_draft2.xlsx\", index_col=0, dtype = {\"gameId\": \"str\"})   # 첫 번째 열(0번째 열)을 데이터프레임의 인덱스로 사용하도록 지정하는 옵션\n",
    "dataset.info()"
   ]
  },
  {
   "cell_type": "code",
   "execution_count": 4,
   "metadata": {},
   "outputs": [
    {
     "data": {
      "text/plain": [
       "0     Red\n",
       "1     Red\n",
       "2     Red\n",
       "3     Red\n",
       "4    Blue\n",
       "Name: winner, dtype: object"
      ]
     },
     "execution_count": 4,
     "metadata": {},
     "output_type": "execute_result"
    }
   ],
   "source": [
    "dataset[\"winner\"].head()"
   ]
  },
  {
   "cell_type": "code",
   "execution_count": 5,
   "metadata": {},
   "outputs": [
    {
     "data": {
      "text/plain": [
       "0    1\n",
       "1    1\n",
       "2    1\n",
       "3    1\n",
       "4    0\n",
       "Name: winner, dtype: int32"
      ]
     },
     "execution_count": 5,
     "metadata": {},
     "output_type": "execute_result"
    }
   ],
   "source": [
    "label_incoder = LabelEncoder()   # 범주형 데이터(카테고리)를 수치형 데이터로 변환하는 데 사용\n",
    "dataset[\"winner\"] = label_incoder.fit_transform(dataset[\"winner\"])\n",
    "dataset[\"winner\"].head()\n",
    "# 밑의 결과값으로 보아 Red = 1  / Blue = 0\n"
   ]
  },
  {
   "cell_type": "code",
   "execution_count": 6,
   "metadata": {},
   "outputs": [
    {
     "name": "stdout",
     "output_type": "stream",
     "text": [
      "<class 'pandas.core.frame.DataFrame'>\n",
      "Index: 7194 entries, 0 to 7193\n",
      "Data columns (total 12 columns):\n",
      " #   Column             Non-Null Count  Dtype  \n",
      "---  ------             --------------  -----  \n",
      " 0   headtoHeadWinrate  7194 non-null   float64\n",
      " 1   teamWinrateDiff    7194 non-null   float64\n",
      " 2   Blue_Top_kda       7194 non-null   float64\n",
      " 3   Blue_Jgl_kda       7194 non-null   float64\n",
      " 4   Blue_Mid_kda       7194 non-null   float64\n",
      " 5   Blue_Adc_kda       7194 non-null   float64\n",
      " 6   Blue_Spt_kda       7194 non-null   float64\n",
      " 7   Red_Top_kda        7194 non-null   float64\n",
      " 8   Red_Jgl_kda        7194 non-null   float64\n",
      " 9   Red_Mid_kda        7194 non-null   float64\n",
      " 10  Red_Adc_kda        7194 non-null   float64\n",
      " 11  Red_Spt_kda        7194 non-null   float64\n",
      "dtypes: float64(12)\n",
      "memory usage: 730.6 KB\n"
     ]
    }
   ],
   "source": [
    "dropped_dataset = dataset.drop([\"gameId\"], axis=1)\n",
    "desired_X_column_list = list(dropped_dataset.columns)\n",
    "desired_X_column_list.remove(\"winner\")    # .remove(\"winner\") 이 안에 들어가는 항목 제거\n",
    "dropped_dataset.drop_duplicates(desired_X_column_list)  # 열 리스트(desired_X_column_list)를 기준으로 중복된 행을 제거하는 데 사용\n",
    "y = dropped_dataset[\"winner\"]\n",
    "X = dropped_dataset.drop([\"winner\"], axis=1)\n",
    "\n",
    "X.info()"
   ]
  },
  {
   "cell_type": "code",
   "execution_count": 7,
   "metadata": {},
   "outputs": [
    {
     "data": {
      "text/html": [
       "<div>\n",
       "<style scoped>\n",
       "    .dataframe tbody tr th:only-of-type {\n",
       "        vertical-align: middle;\n",
       "    }\n",
       "\n",
       "    .dataframe tbody tr th {\n",
       "        vertical-align: top;\n",
       "    }\n",
       "\n",
       "    .dataframe thead th {\n",
       "        text-align: right;\n",
       "    }\n",
       "</style>\n",
       "<table border=\"1\" class=\"dataframe\">\n",
       "  <thead>\n",
       "    <tr style=\"text-align: right;\">\n",
       "      <th></th>\n",
       "      <th>headtoHeadWinrate</th>\n",
       "      <th>teamWinrateDiff</th>\n",
       "      <th>Blue_Top_kda</th>\n",
       "      <th>Blue_Jgl_kda</th>\n",
       "      <th>Blue_Mid_kda</th>\n",
       "      <th>Blue_Adc_kda</th>\n",
       "      <th>Blue_Spt_kda</th>\n",
       "      <th>Red_Top_kda</th>\n",
       "      <th>Red_Jgl_kda</th>\n",
       "      <th>Red_Mid_kda</th>\n",
       "      <th>Red_Adc_kda</th>\n",
       "      <th>Red_Spt_kda</th>\n",
       "    </tr>\n",
       "  </thead>\n",
       "  <tbody>\n",
       "    <tr>\n",
       "      <th>count</th>\n",
       "      <td>7194.000000</td>\n",
       "      <td>7194.000000</td>\n",
       "      <td>7194.000000</td>\n",
       "      <td>7194.000000</td>\n",
       "      <td>7194.000000</td>\n",
       "      <td>7194.000000</td>\n",
       "      <td>7194.000000</td>\n",
       "      <td>7194.000000</td>\n",
       "      <td>7194.000000</td>\n",
       "      <td>7194.000000</td>\n",
       "      <td>7194.000000</td>\n",
       "      <td>7194.000000</td>\n",
       "    </tr>\n",
       "    <tr>\n",
       "      <th>mean</th>\n",
       "      <td>0.495038</td>\n",
       "      <td>0.002245</td>\n",
       "      <td>4.449423</td>\n",
       "      <td>5.523583</td>\n",
       "      <td>5.805209</td>\n",
       "      <td>6.215429</td>\n",
       "      <td>5.571439</td>\n",
       "      <td>4.525407</td>\n",
       "      <td>5.585666</td>\n",
       "      <td>5.835033</td>\n",
       "      <td>6.270366</td>\n",
       "      <td>5.626504</td>\n",
       "    </tr>\n",
       "    <tr>\n",
       "      <th>std</th>\n",
       "      <td>0.184054</td>\n",
       "      <td>0.202201</td>\n",
       "      <td>1.766150</td>\n",
       "      <td>2.188871</td>\n",
       "      <td>2.250277</td>\n",
       "      <td>2.269533</td>\n",
       "      <td>2.325368</td>\n",
       "      <td>1.798515</td>\n",
       "      <td>2.207438</td>\n",
       "      <td>2.255128</td>\n",
       "      <td>2.310944</td>\n",
       "      <td>2.338421</td>\n",
       "    </tr>\n",
       "    <tr>\n",
       "      <th>min</th>\n",
       "      <td>0.083333</td>\n",
       "      <td>-0.677419</td>\n",
       "      <td>0.190476</td>\n",
       "      <td>0.569286</td>\n",
       "      <td>0.125000</td>\n",
       "      <td>0.511111</td>\n",
       "      <td>0.359524</td>\n",
       "      <td>0.166667</td>\n",
       "      <td>0.255952</td>\n",
       "      <td>0.166667</td>\n",
       "      <td>0.641667</td>\n",
       "      <td>0.111111</td>\n",
       "    </tr>\n",
       "    <tr>\n",
       "      <th>25%</th>\n",
       "      <td>0.333333</td>\n",
       "      <td>-0.130073</td>\n",
       "      <td>3.216667</td>\n",
       "      <td>3.968333</td>\n",
       "      <td>4.290000</td>\n",
       "      <td>4.650417</td>\n",
       "      <td>3.887143</td>\n",
       "      <td>3.280000</td>\n",
       "      <td>4.023750</td>\n",
       "      <td>4.276726</td>\n",
       "      <td>4.698750</td>\n",
       "      <td>3.980893</td>\n",
       "    </tr>\n",
       "    <tr>\n",
       "      <th>50%</th>\n",
       "      <td>0.500000</td>\n",
       "      <td>0.000000</td>\n",
       "      <td>4.413333</td>\n",
       "      <td>5.484813</td>\n",
       "      <td>5.705193</td>\n",
       "      <td>6.129330</td>\n",
       "      <td>5.434881</td>\n",
       "      <td>4.427688</td>\n",
       "      <td>5.484813</td>\n",
       "      <td>5.705193</td>\n",
       "      <td>6.129330</td>\n",
       "      <td>5.434881</td>\n",
       "    </tr>\n",
       "    <tr>\n",
       "      <th>75%</th>\n",
       "      <td>0.642857</td>\n",
       "      <td>0.131168</td>\n",
       "      <td>5.570000</td>\n",
       "      <td>6.912500</td>\n",
       "      <td>7.185000</td>\n",
       "      <td>7.652963</td>\n",
       "      <td>6.982500</td>\n",
       "      <td>5.609226</td>\n",
       "      <td>6.986250</td>\n",
       "      <td>7.240000</td>\n",
       "      <td>7.700000</td>\n",
       "      <td>7.019167</td>\n",
       "    </tr>\n",
       "    <tr>\n",
       "      <th>max</th>\n",
       "      <td>0.923077</td>\n",
       "      <td>0.696970</td>\n",
       "      <td>13.840000</td>\n",
       "      <td>14.450000</td>\n",
       "      <td>17.866667</td>\n",
       "      <td>17.466667</td>\n",
       "      <td>21.800000</td>\n",
       "      <td>14.733333</td>\n",
       "      <td>14.443333</td>\n",
       "      <td>17.333333</td>\n",
       "      <td>15.750000</td>\n",
       "      <td>16.250000</td>\n",
       "    </tr>\n",
       "  </tbody>\n",
       "</table>\n",
       "</div>"
      ],
      "text/plain": [
       "       headtoHeadWinrate  teamWinrateDiff  Blue_Top_kda  Blue_Jgl_kda  \\\n",
       "count        7194.000000      7194.000000   7194.000000   7194.000000   \n",
       "mean            0.495038         0.002245      4.449423      5.523583   \n",
       "std             0.184054         0.202201      1.766150      2.188871   \n",
       "min             0.083333        -0.677419      0.190476      0.569286   \n",
       "25%             0.333333        -0.130073      3.216667      3.968333   \n",
       "50%             0.500000         0.000000      4.413333      5.484813   \n",
       "75%             0.642857         0.131168      5.570000      6.912500   \n",
       "max             0.923077         0.696970     13.840000     14.450000   \n",
       "\n",
       "       Blue_Mid_kda  Blue_Adc_kda  Blue_Spt_kda  Red_Top_kda  Red_Jgl_kda  \\\n",
       "count   7194.000000   7194.000000   7194.000000  7194.000000  7194.000000   \n",
       "mean       5.805209      6.215429      5.571439     4.525407     5.585666   \n",
       "std        2.250277      2.269533      2.325368     1.798515     2.207438   \n",
       "min        0.125000      0.511111      0.359524     0.166667     0.255952   \n",
       "25%        4.290000      4.650417      3.887143     3.280000     4.023750   \n",
       "50%        5.705193      6.129330      5.434881     4.427688     5.484813   \n",
       "75%        7.185000      7.652963      6.982500     5.609226     6.986250   \n",
       "max       17.866667     17.466667     21.800000    14.733333    14.443333   \n",
       "\n",
       "       Red_Mid_kda  Red_Adc_kda  Red_Spt_kda  \n",
       "count  7194.000000  7194.000000  7194.000000  \n",
       "mean      5.835033     6.270366     5.626504  \n",
       "std       2.255128     2.310944     2.338421  \n",
       "min       0.166667     0.641667     0.111111  \n",
       "25%       4.276726     4.698750     3.980893  \n",
       "50%       5.705193     6.129330     5.434881  \n",
       "75%       7.240000     7.700000     7.019167  \n",
       "max      17.333333    15.750000    16.250000  "
      ]
     },
     "execution_count": 7,
     "metadata": {},
     "output_type": "execute_result"
    }
   ],
   "source": [
    "X.describe()"
   ]
  },
  {
   "cell_type": "code",
   "execution_count": 8,
   "metadata": {},
   "outputs": [],
   "source": [
    "scaler = StandardScaler()\n",
    "X_scaled = scaler.fit_transform(X)"
   ]
  },
  {
   "cell_type": "code",
   "execution_count": 9,
   "metadata": {},
   "outputs": [],
   "source": [
    "# 80 / 20 으로 검증\n",
    "X_train, X_test, y_train, y_test = train_test_split(X, y, test_size=0.2, random_state=42)"
   ]
  },
  {
   "cell_type": "code",
   "execution_count": 14,
   "metadata": {},
   "outputs": [
    {
     "name": "stdout",
     "output_type": "stream",
     "text": [
      "Accuracy: 0.6157053509381515\n"
     ]
    }
   ],
   "source": [
    "model = xgb.XGBClassifier(use_label_encoder=False, eval_metric='logloss', n_estimators=50)   # n_estimators -> 학습기 수\n",
    "# model = xgb.XGBClassifier(use_label_encoder=False, eval_metric='logloss', early_stopping_rounds=10) \n",
    "model.fit(X_train, y_train)\n",
    "y_pred = model.predict(X_test)\n",
    "accuracy = accuracy_score(y_test, y_pred)\n",
    "print(f'Accuracy: {accuracy}')\n",
    "\n",
    "# use_label_encoder = False -> 경고주는 것을 False 함으로써 피한다\n",
    "# 최신 XGBoost 버전에서 레이블 인코딩을 자동으로 처리하기 때문에 발생할 수 있는 경고 메시지를 피하기 위해 설정"
   ]
  },
  {
   "cell_type": "code",
   "execution_count": 17,
   "metadata": {},
   "outputs": [
    {
     "name": "stdout",
     "output_type": "stream",
     "text": [
      "Fitting 3 folds for each of 19440 candidates, totalling 58320 fits\n"
     ]
    },
    {
     "ename": "KeyboardInterrupt",
     "evalue": "",
     "output_type": "error",
     "traceback": [
      "\u001b[1;31m---------------------------------------------------------------------------\u001b[0m",
      "\u001b[1;31mKeyboardInterrupt\u001b[0m                         Traceback (most recent call last)",
      "Cell \u001b[1;32mIn[17], line 43\u001b[0m\n\u001b[0;32m     28\u001b[0m grid_search \u001b[38;5;241m=\u001b[39m GridSearchCV(estimator\u001b[38;5;241m=\u001b[39mxgb\u001b[38;5;241m.\u001b[39mXGBClassifier(use_label_encoder\u001b[38;5;241m=\u001b[39m\u001b[38;5;28;01mFalse\u001b[39;00m, eval_metric\u001b[38;5;241m=\u001b[39m\u001b[38;5;124m'\u001b[39m\u001b[38;5;124mlogloss\u001b[39m\u001b[38;5;124m'\u001b[39m),\n\u001b[0;32m     29\u001b[0m                         \u001b[38;5;66;03m#    estimator=model,\u001b[39;00m\n\u001b[0;32m     30\u001b[0m                            param_grid\u001b[38;5;241m=\u001b[39mparam_grid,\n\u001b[1;32m   (...)\u001b[0m\n\u001b[0;32m     35\u001b[0m                         \u001b[38;5;66;03m#    early_stopping_rounds=10    # 조기 종료 설정\u001b[39;00m\n\u001b[0;32m     36\u001b[0m                            )   \n\u001b[0;32m     37\u001b[0m \u001b[38;5;66;03m# early_stopping_rounds=10 을 위의 코드에 적용 시키려고 했지만 grid_search에서는 지원하지 않는 옵션이다\u001b[39;00m\n\u001b[0;32m     38\u001b[0m \u001b[38;5;66;03m# 이걸 적용시키기 위해서는 'fit' 메서드에서 사용해야한다\u001b[39;00m\n\u001b[0;32m     39\u001b[0m \u001b[38;5;66;03m# Xgboost는 기본적으로 n_estimators가 100으로 설정되어 있다 만약에 위에서 따로 설정하지 않았다면 100으로 실행하여\u001b[39;00m\n\u001b[0;32m     40\u001b[0m \u001b[38;5;66;03m# early_stopping=10 을 통해서 100개의 트리 + 10개의 트리를 더 설정하여 총 110개를 적용하여 생성한다\u001b[39;00m\n\u001b[0;32m     41\u001b[0m \n\u001b[0;32m     42\u001b[0m \u001b[38;5;66;03m# 그리드 서치 수행\u001b[39;00m\n\u001b[1;32m---> 43\u001b[0m \u001b[43mgrid_search\u001b[49m\u001b[38;5;241;43m.\u001b[39;49m\u001b[43mfit\u001b[49m\u001b[43m(\u001b[49m\u001b[43mX_train\u001b[49m\u001b[43m,\u001b[49m\u001b[43m \u001b[49m\u001b[43my_train\u001b[49m\u001b[43m,\u001b[49m\n\u001b[0;32m     44\u001b[0m \u001b[43m                \u001b[49m\u001b[38;5;66;43;03m# early_stopping_rounds=10,      # 지정된 에폭 수 동안 개선되지 않으면 학습 중단\u001b[39;49;00m\n\u001b[0;32m     45\u001b[0m \u001b[43m                \u001b[49m\u001b[43meval_set\u001b[49m\u001b[38;5;241;43m=\u001b[39;49m\u001b[43m[\u001b[49m\u001b[43m(\u001b[49m\u001b[43mX_test\u001b[49m\u001b[43m,\u001b[49m\u001b[43m \u001b[49m\u001b[43my_test\u001b[49m\u001b[43m)\u001b[49m\u001b[43m]\u001b[49m\u001b[43m,\u001b[49m\u001b[43m   \u001b[49m\u001b[38;5;66;43;03m# eval_set : 검증 데이터 셋을 설정하여 학습 도중 평가를 수행\u001b[39;49;00m\n\u001b[0;32m     46\u001b[0m \u001b[43m                \u001b[49m\u001b[43mverbose\u001b[49m\u001b[38;5;241;43m=\u001b[39;49m\u001b[38;5;28;43;01mTrue\u001b[39;49;00m\u001b[43m)\u001b[49m\n\u001b[0;32m     47\u001b[0m \u001b[38;5;66;03m# fit 메서드에서 early_stopping_rounds 매개변수를 사용 x\u001b[39;00m\n\u001b[0;32m     48\u001b[0m \u001b[38;5;66;03m# 이유 : scikit-learn 호환성을 위해 더 이상 사용되지 x\u001b[39;00m\n\u001b[0;32m     49\u001b[0m \u001b[38;5;66;03m# -> 어떻게 해결해야하는가?\u001b[39;00m\n\u001b[1;32m   (...)\u001b[0m\n\u001b[0;32m     52\u001b[0m \n\u001b[0;32m     53\u001b[0m \u001b[38;5;66;03m# 최적의 하이퍼파라미터 출력\u001b[39;00m\n\u001b[0;32m     54\u001b[0m \u001b[38;5;28mprint\u001b[39m(\u001b[38;5;124mf\u001b[39m\u001b[38;5;124m\"\u001b[39m\u001b[38;5;124mBest parameters found: \u001b[39m\u001b[38;5;132;01m{\u001b[39;00mgrid_search\u001b[38;5;241m.\u001b[39mbest_params_\u001b[38;5;132;01m}\u001b[39;00m\u001b[38;5;124m\"\u001b[39m)\n",
      "File \u001b[1;32mc:\\Users\\NT551\\anaconda3\\envs\\project\\Lib\\site-packages\\sklearn\\base.py:1474\u001b[0m, in \u001b[0;36m_fit_context.<locals>.decorator.<locals>.wrapper\u001b[1;34m(estimator, *args, **kwargs)\u001b[0m\n\u001b[0;32m   1467\u001b[0m     estimator\u001b[38;5;241m.\u001b[39m_validate_params()\n\u001b[0;32m   1469\u001b[0m \u001b[38;5;28;01mwith\u001b[39;00m config_context(\n\u001b[0;32m   1470\u001b[0m     skip_parameter_validation\u001b[38;5;241m=\u001b[39m(\n\u001b[0;32m   1471\u001b[0m         prefer_skip_nested_validation \u001b[38;5;129;01mor\u001b[39;00m global_skip_validation\n\u001b[0;32m   1472\u001b[0m     )\n\u001b[0;32m   1473\u001b[0m ):\n\u001b[1;32m-> 1474\u001b[0m     \u001b[38;5;28;01mreturn\u001b[39;00m \u001b[43mfit_method\u001b[49m\u001b[43m(\u001b[49m\u001b[43mestimator\u001b[49m\u001b[43m,\u001b[49m\u001b[43m \u001b[49m\u001b[38;5;241;43m*\u001b[39;49m\u001b[43margs\u001b[49m\u001b[43m,\u001b[49m\u001b[43m \u001b[49m\u001b[38;5;241;43m*\u001b[39;49m\u001b[38;5;241;43m*\u001b[39;49m\u001b[43mkwargs\u001b[49m\u001b[43m)\u001b[49m\n",
      "File \u001b[1;32mc:\\Users\\NT551\\anaconda3\\envs\\project\\Lib\\site-packages\\sklearn\\model_selection\\_search.py:970\u001b[0m, in \u001b[0;36mBaseSearchCV.fit\u001b[1;34m(self, X, y, **params)\u001b[0m\n\u001b[0;32m    964\u001b[0m     results \u001b[38;5;241m=\u001b[39m \u001b[38;5;28mself\u001b[39m\u001b[38;5;241m.\u001b[39m_format_results(\n\u001b[0;32m    965\u001b[0m         all_candidate_params, n_splits, all_out, all_more_results\n\u001b[0;32m    966\u001b[0m     )\n\u001b[0;32m    968\u001b[0m     \u001b[38;5;28;01mreturn\u001b[39;00m results\n\u001b[1;32m--> 970\u001b[0m \u001b[38;5;28;43mself\u001b[39;49m\u001b[38;5;241;43m.\u001b[39;49m\u001b[43m_run_search\u001b[49m\u001b[43m(\u001b[49m\u001b[43mevaluate_candidates\u001b[49m\u001b[43m)\u001b[49m\n\u001b[0;32m    972\u001b[0m \u001b[38;5;66;03m# multimetric is determined here because in the case of a callable\u001b[39;00m\n\u001b[0;32m    973\u001b[0m \u001b[38;5;66;03m# self.scoring the return type is only known after calling\u001b[39;00m\n\u001b[0;32m    974\u001b[0m first_test_score \u001b[38;5;241m=\u001b[39m all_out[\u001b[38;5;241m0\u001b[39m][\u001b[38;5;124m\"\u001b[39m\u001b[38;5;124mtest_scores\u001b[39m\u001b[38;5;124m\"\u001b[39m]\n",
      "File \u001b[1;32mc:\\Users\\NT551\\anaconda3\\envs\\project\\Lib\\site-packages\\sklearn\\model_selection\\_search.py:1527\u001b[0m, in \u001b[0;36mGridSearchCV._run_search\u001b[1;34m(self, evaluate_candidates)\u001b[0m\n\u001b[0;32m   1525\u001b[0m \u001b[38;5;28;01mdef\u001b[39;00m \u001b[38;5;21m_run_search\u001b[39m(\u001b[38;5;28mself\u001b[39m, evaluate_candidates):\n\u001b[0;32m   1526\u001b[0m \u001b[38;5;250m    \u001b[39m\u001b[38;5;124;03m\"\"\"Search all candidates in param_grid\"\"\"\u001b[39;00m\n\u001b[1;32m-> 1527\u001b[0m     \u001b[43mevaluate_candidates\u001b[49m\u001b[43m(\u001b[49m\u001b[43mParameterGrid\u001b[49m\u001b[43m(\u001b[49m\u001b[38;5;28;43mself\u001b[39;49m\u001b[38;5;241;43m.\u001b[39;49m\u001b[43mparam_grid\u001b[49m\u001b[43m)\u001b[49m\u001b[43m)\u001b[49m\n",
      "File \u001b[1;32mc:\\Users\\NT551\\anaconda3\\envs\\project\\Lib\\site-packages\\sklearn\\model_selection\\_search.py:916\u001b[0m, in \u001b[0;36mBaseSearchCV.fit.<locals>.evaluate_candidates\u001b[1;34m(candidate_params, cv, more_results)\u001b[0m\n\u001b[0;32m    908\u001b[0m \u001b[38;5;28;01mif\u001b[39;00m \u001b[38;5;28mself\u001b[39m\u001b[38;5;241m.\u001b[39mverbose \u001b[38;5;241m>\u001b[39m \u001b[38;5;241m0\u001b[39m:\n\u001b[0;32m    909\u001b[0m     \u001b[38;5;28mprint\u001b[39m(\n\u001b[0;32m    910\u001b[0m         \u001b[38;5;124m\"\u001b[39m\u001b[38;5;124mFitting \u001b[39m\u001b[38;5;132;01m{0}\u001b[39;00m\u001b[38;5;124m folds for each of \u001b[39m\u001b[38;5;132;01m{1}\u001b[39;00m\u001b[38;5;124m candidates,\u001b[39m\u001b[38;5;124m\"\u001b[39m\n\u001b[0;32m    911\u001b[0m         \u001b[38;5;124m\"\u001b[39m\u001b[38;5;124m totalling \u001b[39m\u001b[38;5;132;01m{2}\u001b[39;00m\u001b[38;5;124m fits\u001b[39m\u001b[38;5;124m\"\u001b[39m\u001b[38;5;241m.\u001b[39mformat(\n\u001b[0;32m    912\u001b[0m             n_splits, n_candidates, n_candidates \u001b[38;5;241m*\u001b[39m n_splits\n\u001b[0;32m    913\u001b[0m         )\n\u001b[0;32m    914\u001b[0m     )\n\u001b[1;32m--> 916\u001b[0m out \u001b[38;5;241m=\u001b[39m \u001b[43mparallel\u001b[49m\u001b[43m(\u001b[49m\n\u001b[0;32m    917\u001b[0m \u001b[43m    \u001b[49m\u001b[43mdelayed\u001b[49m\u001b[43m(\u001b[49m\u001b[43m_fit_and_score\u001b[49m\u001b[43m)\u001b[49m\u001b[43m(\u001b[49m\n\u001b[0;32m    918\u001b[0m \u001b[43m        \u001b[49m\u001b[43mclone\u001b[49m\u001b[43m(\u001b[49m\u001b[43mbase_estimator\u001b[49m\u001b[43m)\u001b[49m\u001b[43m,\u001b[49m\n\u001b[0;32m    919\u001b[0m \u001b[43m        \u001b[49m\u001b[43mX\u001b[49m\u001b[43m,\u001b[49m\n\u001b[0;32m    920\u001b[0m \u001b[43m        \u001b[49m\u001b[43my\u001b[49m\u001b[43m,\u001b[49m\n\u001b[0;32m    921\u001b[0m \u001b[43m        \u001b[49m\u001b[43mtrain\u001b[49m\u001b[38;5;241;43m=\u001b[39;49m\u001b[43mtrain\u001b[49m\u001b[43m,\u001b[49m\n\u001b[0;32m    922\u001b[0m \u001b[43m        \u001b[49m\u001b[43mtest\u001b[49m\u001b[38;5;241;43m=\u001b[39;49m\u001b[43mtest\u001b[49m\u001b[43m,\u001b[49m\n\u001b[0;32m    923\u001b[0m \u001b[43m        \u001b[49m\u001b[43mparameters\u001b[49m\u001b[38;5;241;43m=\u001b[39;49m\u001b[43mparameters\u001b[49m\u001b[43m,\u001b[49m\n\u001b[0;32m    924\u001b[0m \u001b[43m        \u001b[49m\u001b[43msplit_progress\u001b[49m\u001b[38;5;241;43m=\u001b[39;49m\u001b[43m(\u001b[49m\u001b[43msplit_idx\u001b[49m\u001b[43m,\u001b[49m\u001b[43m \u001b[49m\u001b[43mn_splits\u001b[49m\u001b[43m)\u001b[49m\u001b[43m,\u001b[49m\n\u001b[0;32m    925\u001b[0m \u001b[43m        \u001b[49m\u001b[43mcandidate_progress\u001b[49m\u001b[38;5;241;43m=\u001b[39;49m\u001b[43m(\u001b[49m\u001b[43mcand_idx\u001b[49m\u001b[43m,\u001b[49m\u001b[43m \u001b[49m\u001b[43mn_candidates\u001b[49m\u001b[43m)\u001b[49m\u001b[43m,\u001b[49m\n\u001b[0;32m    926\u001b[0m \u001b[43m        \u001b[49m\u001b[38;5;241;43m*\u001b[39;49m\u001b[38;5;241;43m*\u001b[39;49m\u001b[43mfit_and_score_kwargs\u001b[49m\u001b[43m,\u001b[49m\n\u001b[0;32m    927\u001b[0m \u001b[43m    \u001b[49m\u001b[43m)\u001b[49m\n\u001b[0;32m    928\u001b[0m \u001b[43m    \u001b[49m\u001b[38;5;28;43;01mfor\u001b[39;49;00m\u001b[43m \u001b[49m\u001b[43m(\u001b[49m\u001b[43mcand_idx\u001b[49m\u001b[43m,\u001b[49m\u001b[43m \u001b[49m\u001b[43mparameters\u001b[49m\u001b[43m)\u001b[49m\u001b[43m,\u001b[49m\u001b[43m \u001b[49m\u001b[43m(\u001b[49m\u001b[43msplit_idx\u001b[49m\u001b[43m,\u001b[49m\u001b[43m \u001b[49m\u001b[43m(\u001b[49m\u001b[43mtrain\u001b[49m\u001b[43m,\u001b[49m\u001b[43m \u001b[49m\u001b[43mtest\u001b[49m\u001b[43m)\u001b[49m\u001b[43m)\u001b[49m\u001b[43m \u001b[49m\u001b[38;5;129;43;01min\u001b[39;49;00m\u001b[43m \u001b[49m\u001b[43mproduct\u001b[49m\u001b[43m(\u001b[49m\n\u001b[0;32m    929\u001b[0m \u001b[43m        \u001b[49m\u001b[38;5;28;43menumerate\u001b[39;49m\u001b[43m(\u001b[49m\u001b[43mcandidate_params\u001b[49m\u001b[43m)\u001b[49m\u001b[43m,\u001b[49m\n\u001b[0;32m    930\u001b[0m \u001b[43m        \u001b[49m\u001b[38;5;28;43menumerate\u001b[39;49m\u001b[43m(\u001b[49m\u001b[43mcv\u001b[49m\u001b[38;5;241;43m.\u001b[39;49m\u001b[43msplit\u001b[49m\u001b[43m(\u001b[49m\u001b[43mX\u001b[49m\u001b[43m,\u001b[49m\u001b[43m \u001b[49m\u001b[43my\u001b[49m\u001b[43m,\u001b[49m\u001b[43m \u001b[49m\u001b[38;5;241;43m*\u001b[39;49m\u001b[38;5;241;43m*\u001b[39;49m\u001b[43mrouted_params\u001b[49m\u001b[38;5;241;43m.\u001b[39;49m\u001b[43msplitter\u001b[49m\u001b[38;5;241;43m.\u001b[39;49m\u001b[43msplit\u001b[49m\u001b[43m)\u001b[49m\u001b[43m)\u001b[49m\u001b[43m,\u001b[49m\n\u001b[0;32m    931\u001b[0m \u001b[43m    \u001b[49m\u001b[43m)\u001b[49m\n\u001b[0;32m    932\u001b[0m \u001b[43m\u001b[49m\u001b[43m)\u001b[49m\n\u001b[0;32m    934\u001b[0m \u001b[38;5;28;01mif\u001b[39;00m \u001b[38;5;28mlen\u001b[39m(out) \u001b[38;5;241m<\u001b[39m \u001b[38;5;241m1\u001b[39m:\n\u001b[0;32m    935\u001b[0m     \u001b[38;5;28;01mraise\u001b[39;00m \u001b[38;5;167;01mValueError\u001b[39;00m(\n\u001b[0;32m    936\u001b[0m         \u001b[38;5;124m\"\u001b[39m\u001b[38;5;124mNo fits were performed. \u001b[39m\u001b[38;5;124m\"\u001b[39m\n\u001b[0;32m    937\u001b[0m         \u001b[38;5;124m\"\u001b[39m\u001b[38;5;124mWas the CV iterator empty? \u001b[39m\u001b[38;5;124m\"\u001b[39m\n\u001b[0;32m    938\u001b[0m         \u001b[38;5;124m\"\u001b[39m\u001b[38;5;124mWere there no candidates?\u001b[39m\u001b[38;5;124m\"\u001b[39m\n\u001b[0;32m    939\u001b[0m     )\n",
      "File \u001b[1;32mc:\\Users\\NT551\\anaconda3\\envs\\project\\Lib\\site-packages\\sklearn\\utils\\parallel.py:67\u001b[0m, in \u001b[0;36mParallel.__call__\u001b[1;34m(self, iterable)\u001b[0m\n\u001b[0;32m     62\u001b[0m config \u001b[38;5;241m=\u001b[39m get_config()\n\u001b[0;32m     63\u001b[0m iterable_with_config \u001b[38;5;241m=\u001b[39m (\n\u001b[0;32m     64\u001b[0m     (_with_config(delayed_func, config), args, kwargs)\n\u001b[0;32m     65\u001b[0m     \u001b[38;5;28;01mfor\u001b[39;00m delayed_func, args, kwargs \u001b[38;5;129;01min\u001b[39;00m iterable\n\u001b[0;32m     66\u001b[0m )\n\u001b[1;32m---> 67\u001b[0m \u001b[38;5;28;01mreturn\u001b[39;00m \u001b[38;5;28;43msuper\u001b[39;49m\u001b[43m(\u001b[49m\u001b[43m)\u001b[49m\u001b[38;5;241;43m.\u001b[39;49m\u001b[38;5;21;43m__call__\u001b[39;49m\u001b[43m(\u001b[49m\u001b[43miterable_with_config\u001b[49m\u001b[43m)\u001b[49m\n",
      "File \u001b[1;32mc:\\Users\\NT551\\anaconda3\\envs\\project\\Lib\\site-packages\\joblib\\parallel.py:2007\u001b[0m, in \u001b[0;36mParallel.__call__\u001b[1;34m(self, iterable)\u001b[0m\n\u001b[0;32m   2001\u001b[0m \u001b[38;5;66;03m# The first item from the output is blank, but it makes the interpreter\u001b[39;00m\n\u001b[0;32m   2002\u001b[0m \u001b[38;5;66;03m# progress until it enters the Try/Except block of the generator and\u001b[39;00m\n\u001b[0;32m   2003\u001b[0m \u001b[38;5;66;03m# reach the first `yield` statement. This starts the aynchronous\u001b[39;00m\n\u001b[0;32m   2004\u001b[0m \u001b[38;5;66;03m# dispatch of the tasks to the workers.\u001b[39;00m\n\u001b[0;32m   2005\u001b[0m \u001b[38;5;28mnext\u001b[39m(output)\n\u001b[1;32m-> 2007\u001b[0m \u001b[38;5;28;01mreturn\u001b[39;00m output \u001b[38;5;28;01mif\u001b[39;00m \u001b[38;5;28mself\u001b[39m\u001b[38;5;241m.\u001b[39mreturn_generator \u001b[38;5;28;01melse\u001b[39;00m \u001b[38;5;28;43mlist\u001b[39;49m\u001b[43m(\u001b[49m\u001b[43moutput\u001b[49m\u001b[43m)\u001b[49m\n",
      "File \u001b[1;32mc:\\Users\\NT551\\anaconda3\\envs\\project\\Lib\\site-packages\\joblib\\parallel.py:1650\u001b[0m, in \u001b[0;36mParallel._get_outputs\u001b[1;34m(self, iterator, pre_dispatch)\u001b[0m\n\u001b[0;32m   1647\u001b[0m     \u001b[38;5;28;01myield\u001b[39;00m\n\u001b[0;32m   1649\u001b[0m     \u001b[38;5;28;01mwith\u001b[39;00m \u001b[38;5;28mself\u001b[39m\u001b[38;5;241m.\u001b[39m_backend\u001b[38;5;241m.\u001b[39mretrieval_context():\n\u001b[1;32m-> 1650\u001b[0m         \u001b[38;5;28;01myield from\u001b[39;00m \u001b[38;5;28mself\u001b[39m\u001b[38;5;241m.\u001b[39m_retrieve()\n\u001b[0;32m   1652\u001b[0m \u001b[38;5;28;01mexcept\u001b[39;00m \u001b[38;5;167;01mGeneratorExit\u001b[39;00m:\n\u001b[0;32m   1653\u001b[0m     \u001b[38;5;66;03m# The generator has been garbage collected before being fully\u001b[39;00m\n\u001b[0;32m   1654\u001b[0m     \u001b[38;5;66;03m# consumed. This aborts the remaining tasks if possible and warn\u001b[39;00m\n\u001b[0;32m   1655\u001b[0m     \u001b[38;5;66;03m# the user if necessary.\u001b[39;00m\n\u001b[0;32m   1656\u001b[0m     \u001b[38;5;28mself\u001b[39m\u001b[38;5;241m.\u001b[39m_exception \u001b[38;5;241m=\u001b[39m \u001b[38;5;28;01mTrue\u001b[39;00m\n",
      "File \u001b[1;32mc:\\Users\\NT551\\anaconda3\\envs\\project\\Lib\\site-packages\\joblib\\parallel.py:1762\u001b[0m, in \u001b[0;36mParallel._retrieve\u001b[1;34m(self)\u001b[0m\n\u001b[0;32m   1757\u001b[0m \u001b[38;5;66;03m# If the next job is not ready for retrieval yet, we just wait for\u001b[39;00m\n\u001b[0;32m   1758\u001b[0m \u001b[38;5;66;03m# async callbacks to progress.\u001b[39;00m\n\u001b[0;32m   1759\u001b[0m \u001b[38;5;28;01mif\u001b[39;00m ((\u001b[38;5;28mlen\u001b[39m(\u001b[38;5;28mself\u001b[39m\u001b[38;5;241m.\u001b[39m_jobs) \u001b[38;5;241m==\u001b[39m \u001b[38;5;241m0\u001b[39m) \u001b[38;5;129;01mor\u001b[39;00m\n\u001b[0;32m   1760\u001b[0m     (\u001b[38;5;28mself\u001b[39m\u001b[38;5;241m.\u001b[39m_jobs[\u001b[38;5;241m0\u001b[39m]\u001b[38;5;241m.\u001b[39mget_status(\n\u001b[0;32m   1761\u001b[0m         timeout\u001b[38;5;241m=\u001b[39m\u001b[38;5;28mself\u001b[39m\u001b[38;5;241m.\u001b[39mtimeout) \u001b[38;5;241m==\u001b[39m TASK_PENDING)):\n\u001b[1;32m-> 1762\u001b[0m     \u001b[43mtime\u001b[49m\u001b[38;5;241;43m.\u001b[39;49m\u001b[43msleep\u001b[49m\u001b[43m(\u001b[49m\u001b[38;5;241;43m0.01\u001b[39;49m\u001b[43m)\u001b[49m\n\u001b[0;32m   1763\u001b[0m     \u001b[38;5;28;01mcontinue\u001b[39;00m\n\u001b[0;32m   1765\u001b[0m \u001b[38;5;66;03m# We need to be careful: the job list can be filling up as\u001b[39;00m\n\u001b[0;32m   1766\u001b[0m \u001b[38;5;66;03m# we empty it and Python list are not thread-safe by\u001b[39;00m\n\u001b[0;32m   1767\u001b[0m \u001b[38;5;66;03m# default hence the use of the lock\u001b[39;00m\n",
      "\u001b[1;31mKeyboardInterrupt\u001b[0m: "
     ]
    }
   ],
   "source": [
    "#하이퍼파라미터 그리드 정의\n",
    "# param_grid = {\n",
    "#     'max_depth': [3, 4, 5, 6],           # 과적합 방지를 하기 위해 적당한 값이 필요\n",
    "#     'learning_rate': [0.01, 0.1, 0.3],   # 기본 값 0.3 값이 낮아질수록 더 약한 학습기가 필요하다\n",
    "#     'n_estimators': [100, 200, 300, 400],  # 학습기 수 \n",
    "#     'colsample_bytree': [0.3, 0.7]        # 최대 트리 수 \n",
    "# }\n",
    "\n",
    "\n",
    "\n",
    "# set_params를 사용하여 매개변수 설정\n",
    "# model.set_params(early_stopping_rounds=10)\n",
    "\n",
    "param_grid = {\n",
    "    'learning_rate': [0.01, 0.05, 0.1, 0.3],\n",
    "    'max_depth': [3, 5, 7, 10],\n",
    "    'n_estimators': [100,200,300,400,500],\n",
    "    'subsample': [0.6, 0.8, 1.0],           # 학습 데이터의 샘플링 비율 설정 / 1.0은 전체데이터를 다 사용하겠다는 의미\n",
    "    'colsample_bytree': [0.6, 0.8, 1.0],    # 각 트리를 학습할 때 사용될 특성의 비율을 설정 / 낮은 값으로 설정하면 모델이 과적합되는 것을 방지\n",
    "    'gamma': [0, 0.1, 0.3],            # 최소 손실 감소 값 제어 ( 값이 클수록 분기가 더 제한되며 더 보수적으로 학습 )\n",
    "    'reg_lambda': [1, 5, 10],          # L2 규제 ( 가중치의 제곱합의 제약 ->강도 파라미터 -> 가중치를 작게 만들어 모델의 복잡도를 줄인다) -> 일반화 성능 향상\n",
    "    'reg_alpha': [0, 1, 5]             # L1 규제 ( 절대값의 합을 제약 -> 모델이 중요한 특성만을 남기고 나머지를 제거하는 효과) -> 희소한 특성 다룰 때 유용\n",
    "}\n",
    "\n",
    "# model = xgb.XGBClassifier(use_label_encoder=False, eval_metric='logloss', early_stopping_rounds=10) \n",
    "\n",
    "# GridSearchCV 객체 생성\n",
    "grid_search = GridSearchCV(estimator=xgb.XGBClassifier(use_label_encoder=False, eval_metric='logloss'),\n",
    "                        #    estimator=model,\n",
    "                           param_grid=param_grid,\n",
    "                           scoring='neg_mean_squared_error',\n",
    "                           cv=3,        # 중첩 수 (3-> 5 변경) -> 확인결과 (현재 데이터로는 3=5 값이 같게 나온다\n",
    "                           verbose=2,   #  학습 과정 중간에 로깅 메시지가 출력됩니다. 이 메시지는 학습의 진행 상태, 각 트리의 손실 값, 학습률 등의 정보를 포함\n",
    "                           n_jobs=1,     # 모든 CPU 코어 사용x / -1 모든 코어 사용o\n",
    "                        #    early_stopping_rounds=10    # 조기 종료 설정\n",
    "                           )   \n",
    "# early_stopping_rounds=10 을 위의 코드에 적용 시키려고 했지만 grid_search에서는 지원하지 않는 옵션이다\n",
    "# 이걸 적용시키기 위해서는 'fit' 메서드에서 사용해야한다\n",
    "# Xgboost는 기본적으로 n_estimators가 100으로 설정되어 있다 만약에 위에서 따로 설정하지 않았다면 100으로 실행하여\n",
    "# early_stopping=10 을 통해서 100개의 트리 + 10개의 트리를 더 설정하여 총 110개를 적용하여 생성한다\n",
    "\n",
    "# 그리드 서치 수행\n",
    "grid_search.fit(X_train, y_train,\n",
    "                # early_stopping_rounds=10,      # 지정된 에폭 수 동안 개선되지 않으면 학습 중단\n",
    "                eval_set=[(X_test, y_test)],   # eval_set : 검증 데이터 셋을 설정하여 학습 도중 평가를 수행\n",
    "                verbose=True)\n",
    "# fit 메서드에서 early_stopping_rounds 매개변수를 사용 x\n",
    "# 이유 : scikit-learn 호환성을 위해 더 이상 사용되지 x\n",
    "# -> 어떻게 해결해야하는가?\n",
    "# 메서드에서 직접 전달하는 대신 생성자에서 설정하거나 set_params 메서드를 사용\n",
    "# set_params 적용\n",
    "\n",
    "# 최적의 하이퍼파라미터 출력\n",
    "print(f\"Best parameters found: {grid_search.best_params_}\")\n",
    "\n",
    "# 최적의 하이퍼파라미터로 모델 재학습\n",
    "best_model = grid_search.best_estimator_\n",
    "\n",
    "# 예측\n",
    "y_pred_best = best_model.predict(X_test)\n",
    "\n",
    "# 정확도 출력\n",
    "mse_best = mean_squared_error(y_test, y_pred_best)\n",
    "print(f\"mse with tuned parameters: {mse_best:.4f}\")\n"
   ]
  },
  {
   "cell_type": "code",
   "execution_count": null,
   "metadata": {},
   "outputs": [],
   "source": [
    "feature_importances = best_model.feature_importances_\n",
    "features = list(X.columns)\n",
    "importance_df = pd.DataFrame({'Feature': features, 'Importance': feature_importances})\n",
    "importance_df = importance_df.sort_values(by='Importance', ascending=False)\n",
    "top_10_features = importance_df"
   ]
  },
  {
   "cell_type": "code",
   "execution_count": null,
   "metadata": {},
   "outputs": [
    {
     "data": {
      "image/png": "[encoded data removed]",
      "text/plain": [
       "<Figure size 1000x3000 with 1 Axes>"
      ]
     },
     "metadata": {},
     "output_type": "display_data"
    }
   ],
   "source": [
    "plt.figure(figsize=(10, 30))\n",
    "plt.barh(top_10_features['Feature'], top_10_features['Importance'], color='skyblue')\n",
    "plt.xlabel('Importance')\n",
    "plt.ylabel('Feature')\n",
    "plt.title('Top 10 Feature Importances')\n",
    "plt.gca().invert_yaxis()   # plt.gca().invert_yaxis()는 Matplotlib 라이브러리에서 현재의 좌표 축을 반전시키는 명령어입니다. 이 명령어는 주로 그래프의 y축 방향을 뒤집어, 보통의 수평 축 방향과 반대로 설정하고자 할 때 사용\n",
    "plt.show()"
   ]
  },
  {
   "cell_type": "code",
   "execution_count": null,
   "metadata": {},
   "outputs": [],
   "source": []
  }
 ],
 "metadata": {
  "kernelspec": {
   "display_name": "newdeal",
   "language": "python",
   "name": "python3"
  },
  "language_info": {
   "codemirror_mode": {
    "name": "ipython",
    "version": 3
   },
   "file_extension": ".py",
   "mimetype": "text/x-python",
   "name": "python",
   "nbconvert_exporter": "python",
   "pygments_lexer": "ipython3",
   "version": "3.12.3"
  }
 },
 "nbformat": 4,
 "nbformat_minor": 2
}

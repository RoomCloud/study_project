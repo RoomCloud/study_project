{
 "cells": [
  {
   "cell_type": "code",
   "execution_count": 1,
   "metadata": {},
   "outputs": [],
   "source": [
    "import pandas as pd\n",
    "from sklearn.model_selection import train_test_split, GridSearchCV\n",
    "from sklearn.preprocessing import StandardScaler\n",
    "from sklearn.preprocessing import LabelEncoder\n",
    "import matplotlib.pyplot as plt\n",
    "from sklearn.metrics import accuracy_score, mean_absolute_error\n",
    "import numpy as np\n",
    "from catboost import CatBoostClassifier"
   ]
  },
  {
   "cell_type": "code",
   "execution_count": 2,
   "metadata": {},
   "outputs": [],
   "source": [
    "pd.set_option(\"display.max_columns\", None)"
   ]
  },
  {
   "cell_type": "code",
   "execution_count": 3,
   "metadata": {},
   "outputs": [
    {
     "name": "stdout",
     "output_type": "stream",
     "text": [
      "<class 'pandas.core.frame.DataFrame'>\n",
      "Index: 7194 entries, 0 to 7193\n",
      "Data columns (total 14 columns):\n",
      " #   Column             Non-Null Count  Dtype  \n",
      "---  ------             --------------  -----  \n",
      " 0   gameId             7194 non-null   object \n",
      " 1   headtoHeadWinrate  7194 non-null   float64\n",
      " 2   teamWinrateDiff    7194 non-null   float64\n",
      " 3   Blue_Top_kda       7194 non-null   float64\n",
      " 4   Blue_Jgl_kda       7194 non-null   float64\n",
      " 5   Blue_Mid_kda       7194 non-null   float64\n",
      " 6   Blue_Adc_kda       7194 non-null   float64\n",
      " 7   Blue_Spt_kda       7194 non-null   float64\n",
      " 8   Red_Top_kda        7194 non-null   float64\n",
      " 9   Red_Jgl_kda        7194 non-null   float64\n",
      " 10  Red_Mid_kda        7194 non-null   float64\n",
      " 11  Red_Adc_kda        7194 non-null   float64\n",
      " 12  Red_Spt_kda        7194 non-null   float64\n",
      " 13  winner             7194 non-null   object \n",
      "dtypes: float64(12), object(2)\n",
      "memory usage: 843.0+ KB\n"
     ]
    }
   ],
   "source": [
    "dataset = pd.read_excel(\"C:/Users/NT551/Desktop/06.17 깃/dataset_draft2.xlsx\", index_col=0, dtype={\"gameId\": \"str\"})\n",
    "dataset.info()"
   ]
  },
  {
   "cell_type": "code",
   "execution_count": 4,
   "metadata": {},
   "outputs": [
    {
     "data": {
      "text/plain": [
       "0     Red\n",
       "1     Red\n",
       "2     Red\n",
       "3     Red\n",
       "4    Blue\n",
       "Name: winner, dtype: object"
      ]
     },
     "execution_count": 4,
     "metadata": {},
     "output_type": "execute_result"
    }
   ],
   "source": [
    "dataset[\"winner\"].head()"
   ]
  },
  {
   "cell_type": "code",
   "execution_count": 5,
   "metadata": {},
   "outputs": [
    {
     "data": {
      "text/plain": [
       "0    1\n",
       "1    1\n",
       "2    1\n",
       "3    1\n",
       "4    0\n",
       "Name: winner, dtype: int32"
      ]
     },
     "execution_count": 5,
     "metadata": {},
     "output_type": "execute_result"
    }
   ],
   "source": [
    "label_encoder = LabelEncoder()\n",
    "dataset[\"winner\"] = label_encoder.fit_transform(dataset[\"winner\"])\n",
    "dataset[\"winner\"].head()"
   ]
  },
  {
   "cell_type": "code",
   "execution_count": 6,
   "metadata": {},
   "outputs": [],
   "source": [
    "dropped_dataset = dataset.drop([\"gameId\"], axis=1)\n",
    "desired_X_column_list = list(dropped_dataset.columns)\n",
    "desired_X_column_list.remove(\"winner\")\n",
    "dropped_dataset = dropped_dataset.drop_duplicates(subset=desired_X_column_list)"
   ]
  },
  {
   "cell_type": "code",
   "execution_count": 7,
   "metadata": {},
   "outputs": [
    {
     "name": "stdout",
     "output_type": "stream",
     "text": [
      "<class 'pandas.core.frame.DataFrame'>\n",
      "Index: 7186 entries, 0 to 7193\n",
      "Data columns (total 12 columns):\n",
      " #   Column             Non-Null Count  Dtype  \n",
      "---  ------             --------------  -----  \n",
      " 0   headtoHeadWinrate  7186 non-null   float64\n",
      " 1   teamWinrateDiff    7186 non-null   float64\n",
      " 2   Blue_Top_kda       7186 non-null   float64\n",
      " 3   Blue_Jgl_kda       7186 non-null   float64\n",
      " 4   Blue_Mid_kda       7186 non-null   float64\n",
      " 5   Blue_Adc_kda       7186 non-null   float64\n",
      " 6   Blue_Spt_kda       7186 non-null   float64\n",
      " 7   Red_Top_kda        7186 non-null   float64\n",
      " 8   Red_Jgl_kda        7186 non-null   float64\n",
      " 9   Red_Mid_kda        7186 non-null   float64\n",
      " 10  Red_Adc_kda        7186 non-null   float64\n",
      " 11  Red_Spt_kda        7186 non-null   float64\n",
      "dtypes: float64(12)\n",
      "memory usage: 729.8 KB\n"
     ]
    },
    {
     "data": {
      "text/html": [
       "<div>\n",
       "<style scoped>\n",
       "    .dataframe tbody tr th:only-of-type {\n",
       "        vertical-align: middle;\n",
       "    }\n",
       "\n",
       "    .dataframe tbody tr th {\n",
       "        vertical-align: top;\n",
       "    }\n",
       "\n",
       "    .dataframe thead th {\n",
       "        text-align: right;\n",
       "    }\n",
       "</style>\n",
       "<table border=\"1\" class=\"dataframe\">\n",
       "  <thead>\n",
       "    <tr style=\"text-align: right;\">\n",
       "      <th></th>\n",
       "      <th>headtoHeadWinrate</th>\n",
       "      <th>teamWinrateDiff</th>\n",
       "      <th>Blue_Top_kda</th>\n",
       "      <th>Blue_Jgl_kda</th>\n",
       "      <th>Blue_Mid_kda</th>\n",
       "      <th>Blue_Adc_kda</th>\n",
       "      <th>Blue_Spt_kda</th>\n",
       "      <th>Red_Top_kda</th>\n",
       "      <th>Red_Jgl_kda</th>\n",
       "      <th>Red_Mid_kda</th>\n",
       "      <th>Red_Adc_kda</th>\n",
       "      <th>Red_Spt_kda</th>\n",
       "    </tr>\n",
       "  </thead>\n",
       "  <tbody>\n",
       "    <tr>\n",
       "      <th>count</th>\n",
       "      <td>7186.000000</td>\n",
       "      <td>7186.000000</td>\n",
       "      <td>7186.000000</td>\n",
       "      <td>7186.000000</td>\n",
       "      <td>7186.000000</td>\n",
       "      <td>7186.000000</td>\n",
       "      <td>7186.000000</td>\n",
       "      <td>7186.000000</td>\n",
       "      <td>7186.000000</td>\n",
       "      <td>7186.000000</td>\n",
       "      <td>7186.000000</td>\n",
       "      <td>7186.000000</td>\n",
       "    </tr>\n",
       "    <tr>\n",
       "      <th>mean</th>\n",
       "      <td>0.495032</td>\n",
       "      <td>0.002247</td>\n",
       "      <td>4.449447</td>\n",
       "      <td>5.523627</td>\n",
       "      <td>5.805321</td>\n",
       "      <td>6.215525</td>\n",
       "      <td>5.571591</td>\n",
       "      <td>4.525516</td>\n",
       "      <td>5.585778</td>\n",
       "      <td>5.835178</td>\n",
       "      <td>6.270523</td>\n",
       "      <td>5.626717</td>\n",
       "    </tr>\n",
       "    <tr>\n",
       "      <th>std</th>\n",
       "      <td>0.184156</td>\n",
       "      <td>0.202314</td>\n",
       "      <td>1.767133</td>\n",
       "      <td>2.190089</td>\n",
       "      <td>2.251527</td>\n",
       "      <td>2.270794</td>\n",
       "      <td>2.326657</td>\n",
       "      <td>1.799513</td>\n",
       "      <td>2.208664</td>\n",
       "      <td>2.256379</td>\n",
       "      <td>2.312226</td>\n",
       "      <td>2.339714</td>\n",
       "    </tr>\n",
       "    <tr>\n",
       "      <th>min</th>\n",
       "      <td>0.083333</td>\n",
       "      <td>-0.677419</td>\n",
       "      <td>0.190476</td>\n",
       "      <td>0.569286</td>\n",
       "      <td>0.125000</td>\n",
       "      <td>0.511111</td>\n",
       "      <td>0.359524</td>\n",
       "      <td>0.166667</td>\n",
       "      <td>0.255952</td>\n",
       "      <td>0.166667</td>\n",
       "      <td>0.641667</td>\n",
       "      <td>0.111111</td>\n",
       "    </tr>\n",
       "    <tr>\n",
       "      <th>25%</th>\n",
       "      <td>0.333333</td>\n",
       "      <td>-0.130081</td>\n",
       "      <td>3.215000</td>\n",
       "      <td>3.967024</td>\n",
       "      <td>4.290000</td>\n",
       "      <td>4.650000</td>\n",
       "      <td>3.883333</td>\n",
       "      <td>3.279107</td>\n",
       "      <td>4.022649</td>\n",
       "      <td>4.276667</td>\n",
       "      <td>4.696667</td>\n",
       "      <td>3.980000</td>\n",
       "    </tr>\n",
       "    <tr>\n",
       "      <th>50%</th>\n",
       "      <td>0.500000</td>\n",
       "      <td>0.000000</td>\n",
       "      <td>4.411389</td>\n",
       "      <td>5.484813</td>\n",
       "      <td>5.705193</td>\n",
       "      <td>6.129330</td>\n",
       "      <td>5.434881</td>\n",
       "      <td>4.427688</td>\n",
       "      <td>5.484813</td>\n",
       "      <td>5.705193</td>\n",
       "      <td>6.129330</td>\n",
       "      <td>5.434881</td>\n",
       "    </tr>\n",
       "    <tr>\n",
       "      <th>75%</th>\n",
       "      <td>0.642857</td>\n",
       "      <td>0.131251</td>\n",
       "      <td>5.571429</td>\n",
       "      <td>6.918750</td>\n",
       "      <td>7.186667</td>\n",
       "      <td>7.653333</td>\n",
       "      <td>6.984583</td>\n",
       "      <td>5.611250</td>\n",
       "      <td>6.988750</td>\n",
       "      <td>7.242500</td>\n",
       "      <td>7.701250</td>\n",
       "      <td>7.022798</td>\n",
       "    </tr>\n",
       "    <tr>\n",
       "      <th>max</th>\n",
       "      <td>0.923077</td>\n",
       "      <td>0.696970</td>\n",
       "      <td>13.840000</td>\n",
       "      <td>14.450000</td>\n",
       "      <td>17.866667</td>\n",
       "      <td>17.466667</td>\n",
       "      <td>21.800000</td>\n",
       "      <td>14.733333</td>\n",
       "      <td>14.443333</td>\n",
       "      <td>17.333333</td>\n",
       "      <td>15.750000</td>\n",
       "      <td>16.250000</td>\n",
       "    </tr>\n",
       "  </tbody>\n",
       "</table>\n",
       "</div>"
      ],
      "text/plain": [
       "       headtoHeadWinrate  teamWinrateDiff  Blue_Top_kda  Blue_Jgl_kda  \\\n",
       "count        7186.000000      7186.000000   7186.000000   7186.000000   \n",
       "mean            0.495032         0.002247      4.449447      5.523627   \n",
       "std             0.184156         0.202314      1.767133      2.190089   \n",
       "min             0.083333        -0.677419      0.190476      0.569286   \n",
       "25%             0.333333        -0.130081      3.215000      3.967024   \n",
       "50%             0.500000         0.000000      4.411389      5.484813   \n",
       "75%             0.642857         0.131251      5.571429      6.918750   \n",
       "max             0.923077         0.696970     13.840000     14.450000   \n",
       "\n",
       "       Blue_Mid_kda  Blue_Adc_kda  Blue_Spt_kda  Red_Top_kda  Red_Jgl_kda  \\\n",
       "count   7186.000000   7186.000000   7186.000000  7186.000000  7186.000000   \n",
       "mean       5.805321      6.215525      5.571591     4.525516     5.585778   \n",
       "std        2.251527      2.270794      2.326657     1.799513     2.208664   \n",
       "min        0.125000      0.511111      0.359524     0.166667     0.255952   \n",
       "25%        4.290000      4.650000      3.883333     3.279107     4.022649   \n",
       "50%        5.705193      6.129330      5.434881     4.427688     5.484813   \n",
       "75%        7.186667      7.653333      6.984583     5.611250     6.988750   \n",
       "max       17.866667     17.466667     21.800000    14.733333    14.443333   \n",
       "\n",
       "       Red_Mid_kda  Red_Adc_kda  Red_Spt_kda  \n",
       "count  7186.000000  7186.000000  7186.000000  \n",
       "mean      5.835178     6.270523     5.626717  \n",
       "std       2.256379     2.312226     2.339714  \n",
       "min       0.166667     0.641667     0.111111  \n",
       "25%       4.276667     4.696667     3.980000  \n",
       "50%       5.705193     6.129330     5.434881  \n",
       "75%       7.242500     7.701250     7.022798  \n",
       "max      17.333333    15.750000    16.250000  "
      ]
     },
     "execution_count": 7,
     "metadata": {},
     "output_type": "execute_result"
    }
   ],
   "source": [
    "y = dropped_dataset[\"winner\"]\n",
    "X = dropped_dataset.drop([\"winner\"], axis=1)\n",
    "X.info()\n",
    "X.describe()"
   ]
  },
  {
   "cell_type": "code",
   "execution_count": 8,
   "metadata": {},
   "outputs": [],
   "source": [
    "scaler = StandardScaler()\n",
    "X_scaled = scaler.fit_transform(X)"
   ]
  },
  {
   "cell_type": "code",
   "execution_count": 9,
   "metadata": {},
   "outputs": [],
   "source": [
    "X_train, X_test, y_train, y_test = train_test_split(X_scaled, y, test_size=0.2, random_state=42)\n"
   ]
  },
  {
   "cell_type": "code",
   "execution_count": 10,
   "metadata": {},
   "outputs": [
    {
     "name": "stdout",
     "output_type": "stream",
     "text": [
      "Accuracy: 0.6203059805285118\n"
     ]
    }
   ],
   "source": [
    "model = xgb.XGBClassifier(use_label_encoder=False, eval_metric='logloss', n_estimators=50)\n",
    "model.fit(X_train, y_train)\n",
    "y_pred = model.predict(X_test)\n",
    "accuracy = accuracy_score(y_test, y_pred)\n",
    "print(f'Accuracy: {accuracy}')"
   ]
  },
  {
   "cell_type": "code",
   "execution_count": 11,
   "metadata": {},
   "outputs": [],
   "source": [
    "param_grid = {\n",
    "    'depth': [3, 5, 7, 10],          # 대체: max_depth\n",
    "    'learning_rate': [0.01, 0.05, 0.1, 0.3],  # 동일\n",
    "    'iterations': [100, 200, 300, 400],       # 대체: n_estimators\n",
    "    'subsample': [0.5, 0.7, 1.0],  # 대체: bagging_temperature\n",
    "    'l2_leaf_reg': [0, 0.1, 0.5, 1, 1.5, 2],  # 대체: l2_leaf_reg (정규화 파라미터로 사용)\n",
    "    'min_data_in_leaf': [1, 3, 5],  # 대체: min_child_weight (명시적 설정)\n",
    "}"
   ]
  },
  {
   "cell_type": "code",
   "execution_count": 12,
   "metadata": {},
   "outputs": [],
   "source": [
    "grid_search = GridSearchCV(estimator=CatBoostClassifier(),\n",
    "                           param_grid=param_grid,\n",
    "                           scoring='accuracy',\n",
    "                           cv=3,\n",
    "                           verbose=1)"
   ]
  },
  {
   "cell_type": "code",
   "execution_count": 14,
   "metadata": {},
   "outputs": [
    {
     "name": "stdout",
     "output_type": "stream",
     "text": [
      "Fitting 3 folds for each of 31104 candidates, totalling 93312 fits\n"
     ]
    }
   ],
   "source": [
    "grid_search.fit(X_train, y_train)\n",
    "best_model = grid_search.best_estimator_"
   ]
  },
  {
   "cell_type": "code",
   "execution_count": 15,
   "metadata": {},
   "outputs": [
    {
     "name": "stdout",
     "output_type": "stream",
     "text": [
      "Best parameters found: {'colsample_bytree': 1.0, 'learning_rate': 0.05, 'max_depth': 3, 'n_estimators': 100}\n"
     ]
    }
   ],
   "source": [
    "y_pred_best = best_model.predict(X_test)\n",
    "accuracy = accuracy_score(y_test, y_pred_best)\n",
    "print(f'Accuracy: {accuracy}')"
   ]
  },
  {
   "cell_type": "code",
   "execution_count": 20,
   "metadata": {},
   "outputs": [],
   "source": [
    "feature_importances = best_model.get_feature_importance()\n",
    "features = list(X.columns)\n",
    "importance_df = pd.DataFrame({'Feature': features, 'Importance': feature_importances})\n",
    "importance_df = importance_df.sort_values(by='Importance', ascending=False)\n",
    "top_10_features = importance_df.head(10)  # Top 10 features"
   ]
  },
  {
   "cell_type": "code",
   "execution_count": 21,
   "metadata": {},
   "outputs": [
    {
     "data": {
      "image/png": "[encoded data removed]",
      "text/plain": [
       "<Figure size 1000x800 with 1 Axes>"
      ]
     },
     "metadata": {},
     "output_type": "display_data"
    }
   ],
   "source": [
    "plt.figure(figsize=(10, 30))\n",
    "plt.barh(top_10_features['Feature'], top_10_features['Importance'], color='skyblue')\n",
    "plt.xlabel('Importance')\n",
    "plt.ylabel('Feature')\n",
    "plt.title('Top 10 Feature Importances')\n",
    "plt.gca().invert_yaxis()\n",
    "plt.show()"
   ]
  },
  {
   "cell_type": "code",
   "execution_count": null,
   "metadata": {},
   "outputs": [],
   "source": []
  }
 ],
 "metadata": {
  "kernelspec": {
   "display_name": "project",
   "language": "python",
   "name": "python3"
  },
  "language_info": {
   "codemirror_mode": {
    "name": "ipython",
    "version": 3
   },
   "file_extension": ".py",
   "mimetype": "text/x-python",
   "name": "python",
   "nbconvert_exporter": "python",
   "pygments_lexer": "ipython3",
   "version": "3.12.3"
  }
 },
 "nbformat": 4,
 "nbformat_minor": 2
}

{
 "cells": [
  {
   "cell_type": "code",
   "execution_count": 1,
   "metadata": {},
   "outputs": [
    {
     "name": "stderr",
     "output_type": "stream",
     "text": [
      "c:\\Users\\NT551\\anaconda3\\envs\\project\\Lib\\site-packages\\xgboost\\sklearn.py:889: UserWarning: `early_stopping_rounds` in `fit` method is deprecated for better compatibility with scikit-learn, use `early_stopping_rounds` in constructor or`set_params` instead.\n",
      "  warnings.warn(\n"
     ]
    },
    {
     "name": "stdout",
     "output_type": "stream",
     "text": [
      "Best parameters: {'learning_rate': 0.01, 'max_depth': 5, 'n_estimators': 400, 'subsample': 0.8, 'colsample_bytree': 0.8, 'gamma': 0.1, 'reg_lambda': 10, 'reg_alpha': 1}\n",
      "Best model F1 Score: 0.4000\n",
      "Best model accuracy: 0.6250\n",
      "Best model ROC AUC: 0.8667\n"
     ]
    },
    {
     "ename": "NameError",
     "evalue": "name 'confusion_matrix' is not defined",
     "output_type": "error",
     "traceback": [
      "\u001b[1;31m---------------------------------------------------------------------------\u001b[0m",
      "\u001b[1;31mNameError\u001b[0m                                 Traceback (most recent call last)",
      "Cell \u001b[1;32mIn[1], line 68\u001b[0m\n\u001b[0;32m     65\u001b[0m \u001b[38;5;28mprint\u001b[39m(\u001b[38;5;124mf\u001b[39m\u001b[38;5;124m'\u001b[39m\u001b[38;5;124mBest model ROC AUC: \u001b[39m\u001b[38;5;132;01m{\u001b[39;00mroc_auc_best\u001b[38;5;132;01m:\u001b[39;00m\u001b[38;5;124m.4f\u001b[39m\u001b[38;5;132;01m}\u001b[39;00m\u001b[38;5;124m'\u001b[39m)\n\u001b[0;32m     67\u001b[0m \u001b[38;5;66;03m# 혼동 행렬 시각화\u001b[39;00m\n\u001b[1;32m---> 68\u001b[0m conf_mat \u001b[38;5;241m=\u001b[39m \u001b[43mconfusion_matrix\u001b[49m(y_valid, y_pred_best)\n\u001b[0;32m     69\u001b[0m plt\u001b[38;5;241m.\u001b[39mfigure(figsize\u001b[38;5;241m=\u001b[39m(\u001b[38;5;241m7\u001b[39m, \u001b[38;5;241m7\u001b[39m))\n\u001b[0;32m     70\u001b[0m sns\u001b[38;5;241m.\u001b[39mheatmap(conf_mat, annot\u001b[38;5;241m=\u001b[39m\u001b[38;5;28;01mTrue\u001b[39;00m, fmt\u001b[38;5;241m=\u001b[39m\u001b[38;5;124m\"\u001b[39m\u001b[38;5;124m.3f\u001b[39m\u001b[38;5;124m\"\u001b[39m, linewidths\u001b[38;5;241m=\u001b[39m\u001b[38;5;241m.5\u001b[39m, square\u001b[38;5;241m=\u001b[39m\u001b[38;5;28;01mTrue\u001b[39;00m, cmap\u001b[38;5;241m=\u001b[39m\u001b[38;5;124m'\u001b[39m\u001b[38;5;124mBlues\u001b[39m\u001b[38;5;124m'\u001b[39m)\n",
      "\u001b[1;31mNameError\u001b[0m: name 'confusion_matrix' is not defined"
     ]
    }
   ],
   "source": [
    "import xgboost as xgb\n",
    "from sklearn.model_selection import train_test_split\n",
    "from sklearn.metrics import accuracy_score, f1_score, roc_auc_score\n",
    "import pandas as pd\n",
    "from sklearn.preprocessing import StandardScaler\n",
    "import matplotlib.pyplot as plt\n",
    "import seaborn as sns\n",
    "import time\n",
    "\n",
    "# 데이터 불러오기\n",
    "df = pd.read_excel('C:/Users/NT551/Desktop/데이터 추출(연습)/high_diamond_ranked_10min5.xlsx')\n",
    "\n",
    "# 타겟 변수와 피처 변수 설정\n",
    "y = df['blueWins']\n",
    "X = df.drop(columns=['blueWins', 'gameId'])\n",
    "\n",
    "# 데이터 전처리: 피처 스케일링\n",
    "scaler = StandardScaler()\n",
    "X = scaler.fit_transform(X)\n",
    "\n",
    "# 학습 데이터와 검증 데이터로 분할\n",
    "X_train, X_valid, y_train, y_valid = train_test_split(X, y, test_size=0.2, random_state=42)\n",
    "\n",
    "# 하이퍼파라미터 설정\n",
    "params_list = [\n",
    "    {'learning_rate': 0.01, 'max_depth': 5, 'n_estimators': 400, 'subsample': 0.8, 'colsample_bytree': 0.8, 'gamma': 0.1, 'reg_lambda': 10, 'reg_alpha': 1},\n",
    "\n",
    "    # 추가적인 하이퍼파라미터 조합\n",
    "]\n",
    "\n",
    "best_f1 = 0\n",
    "best_params = None\n",
    "best_model = None\n",
    "\n",
    "for params in params_list:\n",
    "    model = xgb.XGBClassifier(\n",
    "        objective='binary:logistic',\n",
    "        eval_metric='logloss',\n",
    "        **params\n",
    "    )\n",
    "    \n",
    "    model.fit(X_train, y_train, early_stopping_rounds=20, eval_set=[(X_valid, y_valid)], verbose=False)\n",
    "    \n",
    "    y_pred = model.predict(X_valid)\n",
    "    y_pred_proba = model.predict_proba(X_valid)[:, 1]\n",
    "    \n",
    "    f1 = f1_score(y_valid, y_pred)\n",
    "    if f1 > best_f1:\n",
    "        best_f1 = f1\n",
    "        best_params = params\n",
    "        best_model = model\n",
    "\n",
    "print(f'Best parameters: {best_params}')\n",
    "print(f'Best model F1 Score: {best_f1:.4f}')\n",
    "\n",
    "# 최적 모델로 예측\n",
    "y_pred_best = best_model.predict(X_valid)\n",
    "y_pred_proba = best_model.predict_proba(X_valid)[:, 1]\n",
    "\n",
    "# 최적 모델 평가\n",
    "accuracy_best = accuracy_score(y_valid, y_pred_best)\n",
    "roc_auc_best = roc_auc_score(y_valid, y_pred_proba)\n",
    "\n",
    "print(f'Best model accuracy: {accuracy_best:.4f}')\n",
    "print(f'Best model ROC AUC: {roc_auc_best:.4f}')\n",
    "\n",
    "# 혼동 행렬 시각화\n",
    "conf_mat = confusion_matrix(y_valid, y_pred_best)\n",
    "plt.figure(figsize=(7, 7))\n",
    "sns.heatmap(conf_mat, annot=True, fmt=\".3f\", linewidths=.5, square=True, cmap='Blues')\n",
    "plt.ylabel(\"Actual class\")\n",
    "plt.xlabel(\"Predicted class\")\n",
    "plt.title(\"Confusion Matrix\")\n",
    "plt.show()\n",
    "\n",
    "# 학습 과정 시각화\n",
    "evals_result = best_model.evals_result()  # XGBClassifier의 evals_result 호출\n",
    "\n",
    "epochs = len(evals_result['validation_0']['logloss'])\n",
    "x_axis = range(0, epochs)\n",
    "\n",
    "# 로그 손실 시각화\n",
    "plt.figure(figsize=(14, 7))\n",
    "plt.plot(x_axis, evals_result['validation_0']['logloss'], label='Validation')\n",
    "plt.xlabel('Epochs')\n",
    "plt.ylabel('Logloss')\n",
    "plt.title('XGBoost Logloss over Epochs')\n",
    "plt.legend()\n",
    "plt.grid(True)\n",
    "plt.show()\n"
   ]
  }
 ],
 "metadata": {
  "kernelspec": {
   "display_name": "project",
   "language": "python",
   "name": "python3"
  },
  "language_info": {
   "codemirror_mode": {
    "name": "ipython",
    "version": 3
   },
   "file_extension": ".py",
   "mimetype": "text/x-python",
   "name": "python",
   "nbconvert_exporter": "python",
   "pygments_lexer": "ipython3",
   "version": "3.12.3"
  }
 },
 "nbformat": 4,
 "nbformat_minor": 2
}
